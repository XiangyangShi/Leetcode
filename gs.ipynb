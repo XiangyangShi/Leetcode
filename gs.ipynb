{
 "cells": [
  {
   "cell_type": "markdown",
   "metadata": {},
   "source": [
    "# 川北 羔笙 py2"
   ]
  },
  {
   "cell_type": "markdown",
   "metadata": {},
   "source": [
    "# 1"
   ]
  },
  {
   "cell_type": "markdown",
   "metadata": {},
   "source": [
    "Erica和Bob要编程竞赛，他们依照题目的难度获得分数，如果总分相等就比较做的困难题的多少，还一致就比较中等题，再简单题，再平局"
   ]
  },
  {
   "cell_type": "code",
   "execution_count": 47,
   "metadata": {},
   "outputs": [],
   "source": [
    "erica='EHH'\n",
    "bob='EME'"
   ]
  },
  {
   "cell_type": "code",
   "execution_count": 58,
   "metadata": {},
   "outputs": [],
   "source": [
    "def func(erica,bob):\n",
    "    dic={ 'S':0,'E':1,'M':3,'H':5 }\n",
    "    def f(string):\n",
    "        return sum(map(lambda x:dic[x],string)),string.count('H'),string.count('M'),string.count('E')\n",
    "    e = f(erica)\n",
    "    b = f(bob)\n",
    "    print e,b\n",
    "    res={ 1:'Erica',0:'Tie',-1:'Bob' }\n",
    "    return res[cmp(e,b)]\n"
   ]
  },
  {
   "cell_type": "code",
   "execution_count": 60,
   "metadata": {},
   "outputs": [
    {
     "name": "stdout",
     "output_type": "stream",
     "text": [
      "(11, 2, 0, 1) (5, 0, 1, 2)\n",
      "Erica\n",
      "(11, 2, 0, 1) (11, 2, 0, 1)\n",
      "Tie\n",
      "(5, 0, 1, 2) (11, 2, 0, 1)\n",
      "Bob\n"
     ]
    }
   ],
   "source": [
    "print func(erica,bob)\n",
    "print func(erica,erica)\n",
    "print func(bob,erica)"
   ]
  },
  {
   "cell_type": "markdown",
   "metadata": {},
   "source": [
    "# 2"
   ]
  },
  {
   "cell_type": "markdown",
   "metadata": {},
   "source": [
    "输入是每个队伍的估分，两两比赛的得分是他们各自的估分的和，求随机一场比赛恰好为最高分数的概率,要求结果truncate而不是round"
   ]
  },
  {
   "cell_type": "code",
   "execution_count": 71,
   "metadata": {},
   "outputs": [],
   "source": [
    "ls=[1,2,2,3]"
   ]
  },
  {
   "cell_type": "code",
   "execution_count": 104,
   "metadata": {},
   "outputs": [],
   "source": [
    "def func(ls):\n",
    "    score = [ i+j for ind,i in enumerate(ls) for j in ls[ind+1:]  ]\n",
    "    mx = max(score)\n",
    "    count = score.count(mx)\n",
    "    res = count*1./len(score)\n",
    "    print score,res\n",
    "    r='%3.3f' % res\n",
    "    return r[:-1]"
   ]
  },
  {
   "cell_type": "code",
   "execution_count": 105,
   "metadata": {},
   "outputs": [
    {
     "name": "stdout",
     "output_type": "stream",
     "text": [
      "[3, 3, 4, 4, 5, 5] 0.333333333333\n",
      "0.33\n",
      "[6, 6, 6, 6, 6, 6] 1.0\n",
      "1.00\n",
      "[1, 2, 3, 3, 4, 5] 0.166666666667\n",
      "0.16\n",
      "[3, 3, 3, 4, 4, 4] 0.5\n",
      "0.50\n",
      "[5, 6, 6, 7, 7, 7, 8, 8, 9, 9] 0.2\n",
      "0.20\n"
     ]
    }
   ],
   "source": [
    "print func(ls)\n",
    "print func([3]*4)\n",
    "print func(range(4))\n",
    "print func([1,2,2,2])\n",
    "print func([2,3,4,4,5])"
   ]
  },
  {
   "cell_type": "code",
   "execution_count": 120,
   "metadata": {},
   "outputs": [],
   "source": [
    "def func2(ls):\n",
    "    if ls==[]:return 0\n",
    "    l = len(ls)\n",
    "    mx = 0 if ls==[] else max(ls)\n",
    "    ls2= filter(lambda x:x!=mx,ls)\n",
    "    mx2 = 0 if ls2==[] else max(ls2)\n",
    "    mxcount = ls.count(mx)\n",
    "    mx2count = ls.count(mx2)\n",
    "    if mxcount!=1:\n",
    "        s = mxcount*(mxcount-1)/2\n",
    "    else:\n",
    "        s = mx2count\n",
    "    res = s*1./( l*(l-1)/2  )\n",
    "    print ls2,res\n",
    "    r='%3.3f' % res\n",
    "    return r[:-1]"
   ]
  },
  {
   "cell_type": "code",
   "execution_count": 121,
   "metadata": {},
   "outputs": [
    {
     "name": "stdout",
     "output_type": "stream",
     "text": [
      "[1, 2, 2] 0.333333333333\n",
      "0.33\n",
      "[] 1.0\n",
      "1.00\n",
      "[0, 1, 2] 0.166666666667\n",
      "0.16\n",
      "[1] 0.5\n",
      "0.50\n",
      "[2, 3, 4, 4] 0.2\n",
      "0.20\n"
     ]
    }
   ],
   "source": [
    "print func2(ls)\n",
    "print func2([3]*4)\n",
    "print func2(range(4))\n",
    "print func2([1,2,2,2])\n",
    "print func2([2,3,4,4,5])"
   ]
  },
  {
   "cell_type": "code",
   "execution_count": null,
   "metadata": {},
   "outputs": [],
   "source": []
  },
  {
   "cell_type": "code",
   "execution_count": null,
   "metadata": {},
   "outputs": [],
   "source": []
  }
 ],
 "metadata": {
  "kernelspec": {
   "display_name": "Python 2",
   "language": "python",
   "name": "python2"
  },
  "language_info": {
   "codemirror_mode": {
    "name": "ipython",
    "version": 2
   },
   "file_extension": ".py",
   "mimetype": "text/x-python",
   "name": "python",
   "nbconvert_exporter": "python",
   "pygments_lexer": "ipython2",
   "version": "2.7.13"
  }
 },
 "nbformat": 4,
 "nbformat_minor": 2
}
